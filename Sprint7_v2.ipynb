{
 "cells": [
  {
   "cell_type": "markdown",
   "metadata": {},
   "source": [
    "# Sprint 7"
   ]
  },
  {
   "cell_type": "markdown",
   "metadata": {},
   "source": [
    "## Nivell 1\n"
   ]
  },
  {
   "cell_type": "markdown",
   "metadata": {},
   "source": [
    "## Exercici 1\n",
    "\n",
    "Calculadora de l'índex de massa corporal\n",
    "\n",
    "Escriu una funció que calculi l'IMC ingressat per l'usuari/ària, és a dir, qui ho executi haurà d'ingressar aquestes dades. Pots obtenir més informació del seu càlcul en:\n",
    "\n",
    "-> Índice de masa corporal IMC que es y como se calcula.\n",
    "\n",
    "La funció ha de classificar el resultat en les seves respectives categories"
   ]
  },
  {
   "cell_type": "code",
   "execution_count": null,
   "metadata": {},
   "outputs": [],
   "source": [
    "def demanar_dades():\n",
    "    pes = input(\"Introdueix el teu pes en Kg \")\n",
    "    alt = input(\"Introdueix la teva alçada en Metres \")\n",
    "    try:\n",
    "        pes = float(pes)\n",
    "        alt = float(alt)\n",
    "    except ValueError:\n",
    "        print(\"El pes i l'alçada han de ser nombres\")\n",
    "        return demanar_dades()\n",
    "    if pes <= 0 or alt <= 0:\n",
    "        print(\"El pes i l'alçada han de ser positius\")\n",
    "        return demanar_dades()\n",
    "    else:\n",
    "        return pes, alt\n",
    "\n",
    "def imc(pes, alt):\n",
    "    calcimc = pes / alt ** 2\n",
    "    if calcimc >= 0 and calcimc <= 18.5:\n",
    "        print(\"%.2f\" % calcimc, \"Baix pes\")\n",
    "    elif calcimc >= 18.51 and calcimc <= 24.9:\n",
    "        print(\"%.2f\" % calcimc, \"Pes normal\")\n",
    "    elif calcimc >= 25 and calcimc <= 29.9:\n",
    "        print(\"%.2f\" % calcimc, \"Sobrepès\")\n",
    "    elif calcimc >= 30:\n",
    "        print(\"%.2f\" % calcimc, \"Obesitat\") ; \n",
    "\n",
    "\n",
    "\n",
    "    "
   ]
  },
  {
   "cell_type": "code",
   "execution_count": null,
   "metadata": {},
   "outputs": [
    {
     "name": "stdout",
     "output_type": "stream",
     "text": [
      "23.148148148148145 Baix pes\n"
     ]
    }
   ],
   "source": [
    "demanar_dades()\n",
    "imc(pes, alt)\n",
    "\n"
   ]
  },
  {
   "cell_type": "markdown",
   "metadata": {},
   "source": [
    "## Exercici 2\n",
    "\n",
    "Convertidor de temperatures.\n",
    "\n",
    "Existeixen diverses unitats de temperatura utilitzades en diferents contextos i regions. Les més comunes són Celsius (°C), Fahrenheit (°F) i Kelvin (K). També existeixen altres unitats com Rankine (°Ra) i Réaumur (°Re). Selecciona almenys 2 conversors, de tal manera que en introduir una temperatura retorni, com a mínim, dues conversions."
   ]
  },
  {
   "cell_type": "code",
   "execution_count": 9,
   "metadata": {},
   "outputs": [
    {
     "name": "stdout",
     "output_type": "stream",
     "text": [
      "{'Fahrenehit': 77.0, 'Kelvin': 298.15}\n"
     ]
    }
   ],
   "source": [
    "temps = input(\"Introdueix la temperatura i la seva unitat, per exemple 32C, 100F o 273K: \")\n",
    "num = float(temps[:-1])\n",
    "convertir = temps[-1].upper()\n",
    "calculs = {\n",
    "    \"C\": {\"Fahrenehit\": round(9/5 * num + 32, 2), \"Kelvin\": round(num + 273.15, 2)},\n",
    "    \"F\": {\"Celsius\": round(5/9 * (num - 32), 2), \"Kelvin\": round(5/9 * (num - 32) + 273.15, 2)},\n",
    "    \"K\": {\"Celsius\": round(num - 273.15, 2), \"Fahrenehit\": round(9/5 * (num - 273.15) + 32, 2)}\n",
    "}\n",
    "if convertir in calculs:\n",
    "    print(calculs[convertir])\n",
    "else:\n",
    "    print(\"Unitat no vàlida\")\n"
   ]
  },
  {
   "cell_type": "code",
   "execution_count": null,
   "metadata": {},
   "outputs": [
    {
     "name": "stdout",
     "output_type": "stream",
     "text": [
      "La temperatura en fahrenheit és  37.40 i en kelvin  276.15\n"
     ]
    }
   ],
   "source": [
    "def celsius_to (temp):\n",
    "    fahr = temp * 9/5 + 32\n",
    "    kelv = temp + 273.15\n",
    "\n",
    "    return fahr, kelv;\n",
    "\n",
    "cel = float(input(\"Introdueix la temperatura en graus Celsius \"))\n",
    "\n",
    "temp_f, temp_k = celsius_to(cel)\n",
    "print(f\"La temperatura en fahrenheit és {temp_f: .2f} i en kelvin {temp_k: .2f}\")\n",
    "#Funcion eval evaluate "
   ]
  },
  {
   "cell_type": "markdown",
   "metadata": {},
   "source": [
    "## Exercici 3\n",
    "\n",
    "Comptador de paraules d'un text.\n",
    "\n",
    "Escriu una funció que donat un text, mostri les vegades que apareix cada paraula."
   ]
  },
  {
   "cell_type": "code",
   "execution_count": null,
   "metadata": {},
   "outputs": [
    {
     "data": {
      "text/plain": [
       "{'hola': 2, 'que': 1, 'tal': 1, 'me': 1, 'llamo': 1, 'nil': 1}"
      ]
     },
     "execution_count": 9,
     "metadata": {},
     "output_type": "execute_result"
    }
   ],
   "source": [
    "def count_words (string):\n",
    "    count = {}\n",
    "    for i in string.split():\n",
    "        if i not in count:\n",
    "            count.update({i: 1})\n",
    "        elif i in count:\n",
    "            count[i] += 1\n",
    "            \n",
    "    return count\n",
    "    \n",
    "text = input(\"Introdueix un text \")  \n",
    "count_words(text)"
   ]
  },
  {
   "cell_type": "markdown",
   "metadata": {},
   "source": [
    "## Exercici 4\n",
    "\n",
    "Diccionari invers.\n",
    "\n",
    "Resulta que el client té una enquesta molt antiga que s'emmagatzema en un diccionari i els resultats els necessita al revés, és a dir, intercanviats les claus i els valors. Els valors i claus en el diccionari original són únics; si aquest no és el cas, la funció hauria d'imprimir un missatge d'advertiment."
   ]
  },
  {
   "cell_type": "code",
   "execution_count": 49,
   "metadata": {},
   "outputs": [
    {
     "name": "stdout",
     "output_type": "stream",
     "text": [
      "{1: 'a', 2: 'b', 3: 'c'}\n"
     ]
    }
   ],
   "source": [
    "d1 = {'a':1, 'b':2, 'c':3}\n",
    "d2 = {'a':1, 'b':2, 'c':3, 'd': 3}\n",
    "d_empty = {}\n",
    "\n",
    "def reverse_di (dicc):\n",
    "    for key, value in dicc.items():\n",
    "        if value in d_empty:\n",
    "            print(f\"Error: hi ha dos valors iguals\")\n",
    "        d_empty[value]= key\n",
    "    \n",
    "    print(d_empty)\n",
    "\n",
    "    ;\n",
    "\n",
    "# reverse_di(d2)\n",
    "reverse_di(d1)"
   ]
  },
  {
   "cell_type": "markdown",
   "metadata": {},
   "source": [
    "## Nivell 2"
   ]
  },
  {
   "cell_type": "markdown",
   "metadata": {},
   "source": [
    "## Exercici 1\n",
    "\n",
    "Diccionari invers amb duplicats\n",
    "\n",
    "Continuant amb l'exercici 4 del nivell 1: al client es va oblidar de comentar un detall i resulta que els valors en el diccionari original poden duplicar-se i més, per la qual cosa les claus intercanviades poden tenir duplicats. En aquest cas, en l'exercici anterior imprimies un missatge d'advertiment, ara, els valors del diccionari resultant hauran d'emmagatzemar-se com una llista. Tingues en compte que si és un valor únic no ha de ser una llista."
   ]
  },
  {
   "cell_type": "code",
   "execution_count": 50,
   "metadata": {},
   "outputs": [
    {
     "name": "stdout",
     "output_type": "stream",
     "text": [
      "{1: 'a', 2: 'b', 3: ['c', 'd']}\n"
     ]
    }
   ],
   "source": [
    "d2 = {'a':1, 'b':2, 'c':3, 'd': 3}\n",
    " \n",
    "def dict_invert(dicc): \n",
    "    \n",
    "    vals = list(dicc.values())\n",
    "    seen = []\n",
    "    duplicats = []\n",
    "    for i in vals:\n",
    "        if i in seen:\n",
    "            duplicats.append(i)\n",
    "        else:\n",
    "            seen.append(i)\n",
    "\n",
    "    dict_invert = {}\n",
    "    for key, value in dicc.items():\n",
    "        if value not in duplicats:\n",
    "            dict_invert[value] = dict_invert.get(value, key)\n",
    "        elif value in duplicats:\n",
    "            dict_invert[value] = dict_invert.get(value, []) + [key]\n",
    "\n",
    "    print(dict_invert);\n",
    "\n",
    "dict_invert(d2)\n",
    "    \n"
   ]
  },
  {
   "cell_type": "code",
   "execution_count": 24,
   "metadata": {},
   "outputs": [
    {
     "name": "stdout",
     "output_type": "stream",
     "text": [
      "{1: ['a'], 2: ['b'], 3: ['c', 'd']}\n"
     ]
    }
   ],
   "source": [
    "# TEST\n",
    "\n",
    "d2 = {'a':1, 'b':2, 'c':3, 'd': 3}\n",
    "\n",
    "empty = {}\n",
    "\n",
    "for key, value in d2.items():\n",
    "    if value not in empty:\n",
    "        empty[value]=[key]\n",
    "    else:\n",
    "        empty[value].append(key)\n",
    "\n",
    "print(empty)\n",
    "\n",
    "# TEST"
   ]
  },
  {
   "cell_type": "markdown",
   "metadata": {},
   "source": [
    "## Exercici 2\n",
    "\n",
    "Conversió de tipus de dades\n",
    "\n",
    "El client rep una llista de dades i necessita generar dues llistes, la primera on estaran tots els elements que es van poder convertir en flotants i l'altra on estan els elements que no es van poder convertir. Exemple de la llista que rep el client: [ '1.3', 'one' , '1e10' , 'seven', '3-1/2', ('2',1,1.4,'not-a-number'), [1,2,'3','3.4']]"
   ]
  },
  {
   "cell_type": "code",
   "execution_count": 2,
   "metadata": {},
   "outputs": [
    {
     "name": "stdout",
     "output_type": "stream",
     "text": [
      "([1.3, 10000000000.0, 2.0, 1, 1.4, 1, 2, 3.0, 3.4], ['one', 'seven', '3-1/2', 'not-a-number'])\n"
     ]
    }
   ],
   "source": [
    "conversion = (['1.3', 'one', '1e10', 'seven', '3-1/2', ('2', 1, 1.4, 'not-a-number'), [1, 2, '3', '3.4']])\n",
    "\n",
    "def convert (lst):\n",
    "    llista_float = []\n",
    "    llista_no = []\n",
    "    for items in lst:\n",
    "        if isinstance (items, (int, float)): #si es un float o int, l'afegim a la llista de floats\n",
    "            llista_float.append(items)\n",
    "        elif isinstance (items, str):  \n",
    "            try:\n",
    "                llista_float.append(float(items)) #si es item convertible a float, l'afegim a la llista de floats\n",
    "            except:\n",
    "                llista_no.append(items) #si no es pot convertir a float, l'afegim a la llista de no floats\n",
    "        elif isinstance (items, (tuple, list)): #si es una tupla o llista, mirem els seus subitems amb un bucle for\n",
    "            for subitems in items: #Repetim les mateixes comprovacions que abans\n",
    "                if isinstance (subitems, (int, float)):\n",
    "                    llista_float.append(subitems)\n",
    "                elif isinstance (subitems, str):\n",
    "                    try:\n",
    "                        llista_float.append(float(subitems))\n",
    "                    except:\n",
    "                        llista_no.append(subitems)\n",
    "    return llista_float, llista_no;\n",
    "\n",
    "print(convert(conversion))\n",
    "\n",
    "    \n",
    "    "
   ]
  },
  {
   "cell_type": "markdown",
   "metadata": {},
   "source": [
    "# Nivell 3"
   ]
  },
  {
   "cell_type": "markdown",
   "metadata": {},
   "source": [
    "## Exercici 1\n",
    "\n",
    "Comptador i endreçador de paraules d'un text.\n",
    "\n",
    "El client va quedar content amb el comptador de paraules, però ara vol llegir arxius TXT i que calculi la freqüència de cada paraula ordenades dins de les entrades habituals del diccionari segons la lletra amb la qual comencen, és a dir, les claus han d'anar de la A a la Z i dins de la A hem d'anar de la A la Z. Per exemple, per a l'arxiu \"tu_me_quieres_blanca.txt\" la sortida esperada seria:"
   ]
  },
  {
   "cell_type": "code",
   "execution_count": 51,
   "metadata": {},
   "outputs": [
    {
     "name": "stdout",
     "output_type": "stream",
     "text": [
      "{'a': {'a': 3, 'agua': 1, 'al': 2, 'alba': 4, 'alcobas': 1, 'alimenta': 1, 'alma': 1, 'amarga': 1, 'azucena': 1}, 'b': {'baco': 1, 'banquete': 1, 'bebe': 1, 'blanca': 3, 'boca': 1, 'bosques': 1, 'buen': 1}, 'c': {'cabañas': 1, 'carnes': 2, 'casta': 3, 'cerrada': 1, 'con': 4, 'conservas': 1, 'copas': 1, 'corola': 1, 'corriste': 1, 'cuando': 2, 'cubierto': 1, 'cuerpo': 1, 'cuáles': 1}, 'd': {'de': 8, 'dejaste': 1, 'del': 1, 'diga': 1, 'dios': 2, 'duerme': 1}, 'e': {'el': 4, 'ellas': 1, 'en': 4, 'engaño': 1, 'enredada': 1, 'entonces': 1, 'escarcha': 1, 'espumas': 1, 'esqueleto': 1, 'estrago': 1}, 'f': {'festejando': 1, 'filtrado': 1, 'frutos': 1}, 'h': {'habla': 1, 'hacia': 1, 'haya': 1, 'hayas': 1, 'hermana': 1, 'hombre': 1, 'hubiste': 1, 'huye': 1}, 'i': {'intacto': 1}, 'j': {'jardines': 1}, 'l': {'la': 3, 'labios': 1, 'las': 7, 'lo': 2, 'los': 4, 'luna': 1, 'lévate': 1, 'límpiate': 1}, 'm': {'mano': 1, 'manos': 1, 'margarita': 1, 'me': 10, 'mi': 1, 'mieles': 1, 'milagros': 1, 'mojada': 1, 'montaña': 1, 'morados': 1}, 'n': {'negros': 1, 'ni': 2, 'no': 1, 'nácar': 1, 'nívea': 2}, 'p': {'perdone': 2, 'perfume': 1, 'por': 2, 'pretendes': 3, 'preténdeme': 3, 'puesto': 1, 'pájaros': 1, 'pámpanos': 1}, 'q': {'que': 6, 'quedó': 1, 'quieres': 6}, 'r': {'rayo': 1, 'raíz': 1, 'renueva': 1, 'rocas': 1, 'rojo': 1}, 's': {'salitre': 1, 'se': 2, 'sea': 1, 'sean': 1, 'sobre': 2, 'sé': 1}, 't': {'te': 3, 'tejidos': 1, 'tenue': 1, 'tierra': 1, 'toca': 1, 'todas': 2, 'todavía': 1, 'tornadas': 1, 'tú': 8}, 'u': {'un': 1, 'una': 1}, 'v': {'vestido': 1, 'vete': 1, 'vive': 1}, 'y': {'y': 5}}\n"
     ]
    }
   ],
   "source": [
    "import re\n",
    "\n",
    "text = open(\"D:\\\\1_Data\\\\IT_Academy\\\\DA_especialitzacio\\\\S7\\\\tu_me_quieres_blanca.txt\", \"r\")\n",
    "text = text.read()\n",
    "\n",
    "# textclean = re.sub('[^A-ZÀ-ža-z \\n\\.~]+', '', text)\n",
    "# textclean = re.sub('[^A-ZÀ-ža-z0-9 \\n]', '', text)\n",
    "def clean_text (text):\n",
    "    textclean = re.sub('[^A-ZÀ-ža-z \\n]', '', text)\n",
    "    textclean = textclean.lower()\n",
    "    words = textclean.split()\n",
    "    return words\n",
    "\n",
    "def count_words (words):\n",
    "    dictionary = {}\n",
    "    for word in words:\n",
    "        if (word[0] not in dictionary.keys()):\n",
    "            dictionary[word[0]] = {}\n",
    "            dictionary[word[0]].update({word: 1})\n",
    "        else:\n",
    "            if (word not in dictionary[word[0]]):\n",
    "                dictionary[word[0]].update({word: 1})\n",
    "            else:\n",
    "                dictionary[word[0]].update({word: dictionary[word[0]][word]+1})\n",
    "    return dictionary\n",
    "\n",
    "def sort_dict (dictionary):\n",
    "    sorted_dict = {key: {k:v for k, v in sorted(value.items())} for key, value in sorted(dictionary.items())}\n",
    "    return sorted_dict\n",
    "\n",
    "print(sorted_dict)"
   ]
  },
  {
   "cell_type": "code",
   "execution_count": null,
   "metadata": {},
   "outputs": [
    {
     "name": "stdout",
     "output_type": "stream",
     "text": [
      "{'a': {'a': 3, 'agua': 1, 'al': 2, 'alba': 4, 'alcobas': 1, 'alimenta': 1, 'alma': 1, 'amarga': 1, 'azucena': 1}, 'b': {'baco': 1, 'banquete': 1, 'bebe': 1, 'blanca': 3, 'boca': 1, 'bosques': 1, 'buen': 1}, 'c': {'cabañas': 1, 'carnes': 2, 'casta': 3, 'cerrada': 1, 'con': 4, 'conservas': 1, 'copas': 1, 'corola': 1, 'corriste': 1, 'cuando': 2, 'cubierto': 1, 'cuerpo': 1, 'cuáles': 1}, 'd': {'de': 8, 'dejaste': 1, 'del': 1, 'diga': 1, 'dios': 2, 'duerme': 1}, 'e': {'el': 4, 'ellas': 1, 'en': 4, 'engaño': 1, 'enredada': 1, 'entonces': 1, 'escarcha': 1, 'espumas': 1, 'esqueleto': 1, 'estrago': 1}, 'f': {'festejando': 1, 'filtrado': 1, 'frutos': 1}, 'h': {'habla': 1, 'hacia': 1, 'haya': 1, 'hayas': 1, 'hermana': 1, 'hombre': 1, 'hubiste': 1, 'huye': 1}, 'i': {'intacto': 1}, 'j': {'jardines': 1}, 'l': {'la': 3, 'labios': 1, 'las': 7, 'lo': 2, 'los': 4, 'luna': 1, 'lévate': 1, 'límpiate': 1}, 'm': {'mano': 1, 'manos': 1, 'margarita': 1, 'me': 10, 'mi': 1, 'mieles': 1, 'milagros': 1, 'mojada': 1, 'montaña': 1, 'morados': 1}, 'n': {'negros': 1, 'ni': 2, 'no': 1, 'nácar': 1, 'nívea': 2}, 'p': {'perdone': 2, 'perfume': 1, 'por': 2, 'pretendes': 3, 'preténdeme': 3, 'puesto': 1, 'pájaros': 1, 'pámpanos': 1}, 'q': {'que': 6, 'quedó': 1, 'quieres': 6}, 'r': {'rayo': 1, 'raíz': 1, 'renueva': 1, 'rocas': 1, 'rojo': 1}, 's': {'salitre': 1, 'se': 2, 'sea': 1, 'sean': 1, 'sobre': 2, 'sé': 1}, 't': {'te': 3, 'tejidos': 1, 'tenue': 1, 'tierra': 1, 'toca': 1, 'todas': 2, 'todavía': 1, 'tornadas': 1, 'tú': 8}, 'u': {'un': 1, 'una': 1}, 'v': {'vestido': 1, 'vete': 1, 'vive': 1}, 'y': {'y': 5}}\n"
     ]
    }
   ],
   "source": [
    "import re\n",
    "\n",
    "text = open(\"D:\\\\1_Data\\\\IT_Academy\\\\DA_especialitzacio\\\\S7\\\\tu_me_quieres_blanca.txt\", \"r\")\n",
    "text = text.read()\n",
    "\n",
    "# textclean = re.sub('[^A-ZÀ-ža-z \\n\\.~]+', '', text)\n",
    "# textclean = re.sub('[^A-ZÀ-ža-z0-9 \\n]', '', text)\n",
    "\n",
    "textclean = re.sub('[^A-ZÀ-ža-z \\n]', '', text)\n",
    "textclean = textclean.lower()\n",
    "\n",
    "words = textclean.split()\n",
    "\n",
    "dictionary = {}\n",
    " \n",
    "for word in words:\n",
    " \n",
    "    if (word[0] not in dictionary.keys()):\n",
    "        dictionary[word[0]] = {}\n",
    "        dictionary[word[0]].update({word: 1})\n",
    " \n",
    "    else:\n",
    "\n",
    "        if (word not in dictionary[word[0]]):\n",
    "            dictionary[word[0]].update({word: 1})\n",
    "        else:\n",
    "            dictionary[word[0]].update({word: dictionary[word[0]][word]+1})\n",
    "\n",
    "sorted_dict = {key: {k:v for k, v in sorted(value.items())} for key, value in sorted(dictionary.items())}\n",
    "print(sorted_dict)\n",
    "\n",
    "\n",
    "\n"
   ]
  }
 ],
 "metadata": {
  "kernelspec": {
   "display_name": "Python 3",
   "language": "python",
   "name": "python3"
  },
  "language_info": {
   "codemirror_mode": {
    "name": "ipython",
    "version": 3
   },
   "file_extension": ".py",
   "mimetype": "text/x-python",
   "name": "python",
   "nbconvert_exporter": "python",
   "pygments_lexer": "ipython3",
   "version": "3.12.7"
  }
 },
 "nbformat": 4,
 "nbformat_minor": 2
}
